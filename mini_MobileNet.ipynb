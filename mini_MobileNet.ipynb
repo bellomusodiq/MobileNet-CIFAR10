{
 "cells": [
  {
   "cell_type": "code",
   "execution_count": 30,
   "metadata": {
    "id": "PCUNzOOyUg7Y"
   },
   "outputs": [],
   "source": [
    "import torch\n",
    "import torch.nn as nn\n",
    "import torchvision\n",
    "import torchvision.datasets as datasets\n",
    "import torchvision.transforms as transforms\n",
    "import numpy as np\n",
    "import matplotlib.pyplot as plt\n",
    "import math"
   ]
  },
  {
   "cell_type": "code",
   "execution_count": 31,
   "metadata": {
    "colab": {
     "base_uri": "https://localhost:8080/"
    },
    "id": "VBGjgywuqRDB",
    "outputId": "ef12e308-aa7d-4569-9e28-b58584bd876a"
   },
   "outputs": [
    {
     "name": "stdout",
     "output_type": "stream",
     "text": [
      "Files already downloaded and verified\n"
     ]
    }
   ],
   "source": [
    "\n",
    "train_data = datasets.CIFAR10(root=\"./data\", download=True, train=True)\n",
    "test_data = datasets.CIFAR10(root=\"./data\", transform=transforms.ToTensor(), train=False)"
   ]
  },
  {
   "cell_type": "markdown",
   "metadata": {},
   "source": [
    "### Data augumentation"
   ]
  },
  {
   "cell_type": "code",
   "execution_count": 32,
   "metadata": {
    "id": "x-BeBy8ofvfi"
   },
   "outputs": [],
   "source": [
    "class ImageDataset(torch.utils.data.Dataset):\n",
    "  def __init__(self, images, labels):\n",
    "    self.images = images\n",
    "    self.labels = labels\n",
    "\n",
    "  def __getitem__(self, index):\n",
    "    return self.images[index], self.labels[index]\n",
    "  \n",
    "  def __len__(self):\n",
    "    return len(self.labels)"
   ]
  },
  {
   "cell_type": "code",
   "execution_count": 1,
   "metadata": {
    "id": "QV1NqsmFeEw5"
   },
   "outputs": [],
   "source": [
    "def image_augumentation(dataset):\n",
    "  transformed_images = []\n",
    "  labels = []\n",
    "  transform_list = [\n",
    "      (transforms.RandomRotation(degrees=(0,180)), 5),\n",
    "      (transforms.RandomHorizontalFlip(p=1), 1),\n",
    "      (transforms.RandomVerticalFlip(p=1), 1),\n",
    "      (transforms.ColorJitter(), 2),\n",
    "      (transforms.RandomAffine(20), 2),\n",
    "      (transforms.RandomPerspective(), 2),\n",
    "      \n",
    "  ]\n",
    "  to_tensor = transforms.ToTensor()\n",
    "  for i in range(len(train_data)):\n",
    "    image, label = dataset[i]\n",
    "    transformed_images.append(to_tensor(image))\n",
    "    labels.append(label)\n",
    "    # print(image)\n",
    "    # transforms here\n",
    "    for transform, count in transform_list:\n",
    "      for _ in range(count):\n",
    "        transformed_images.append(to_tensor(transform(image)))\n",
    "        labels.append(label)\n",
    "    print('done', i, \"/\", len(dataset))\n",
    "  return transformed_images, labels\n",
    "\n",
    "augumented_images = image_augumentation(train_data)\n",
    "print(len(augumented_images))"
   ]
  },
  {
   "cell_type": "code",
   "execution_count": 34,
   "metadata": {
    "id": "C0HNVeDRE-lR"
   },
   "outputs": [],
   "source": [
    "# augumented_images = torch.load(\"drive/MyDrive/augumented_images.pt\")\n",
    "# len(augumented_images[1])"
   ]
  },
  {
   "cell_type": "code",
   "execution_count": 35,
   "metadata": {
    "id": "VK-jPI-eQVNL"
   },
   "outputs": [],
   "source": [
    "augument_dataset = ImageDataset(augumented_images[0], augumented_images[1])"
   ]
  },
  {
   "cell_type": "code",
   "execution_count": 36,
   "metadata": {
    "id": "mJowryH8q-A_"
   },
   "outputs": [
    {
     "data": {
      "text/plain": [
       "torch.Size([3, 32, 32])"
      ]
     },
     "execution_count": 36,
     "metadata": {},
     "output_type": "execute_result"
    }
   ],
   "source": [
    "train_data = ImageDataset(augumented_images[0], augumented_images[1])\n",
    "test_image, test_target = train_data[-1]\n",
    "test_image.size()"
   ]
  },
  {
   "cell_type": "code",
   "execution_count": 37,
   "metadata": {
    "colab": {
     "base_uri": "https://localhost:8080/"
    },
    "id": "HeCd7V6vDVrK",
    "outputId": "dce9c9bb-7676-4147-bf22-dcd78c5458af"
   },
   "outputs": [
    {
     "data": {
      "text/plain": [
       "700000"
      ]
     },
     "execution_count": 37,
     "metadata": {},
     "output_type": "execute_result"
    }
   ],
   "source": [
    "len(train_data)"
   ]
  },
  {
   "cell_type": "code",
   "execution_count": 38,
   "metadata": {
    "id": "uo-U_Umhri1b"
   },
   "outputs": [
    {
     "name": "stdout",
     "output_type": "stream",
     "text": [
      "tensor(0.0157) tensor(1.)\n"
     ]
    }
   ],
   "source": [
    "print(torch.min(test_image), torch.max(test_image))"
   ]
  },
  {
   "cell_type": "code",
   "execution_count": 39,
   "metadata": {
    "id": "2l73hBR9rvbY"
   },
   "outputs": [],
   "source": [
    "def show_image(image):\n",
    "  img = image.data.numpy()\n",
    "  img = np.transpose(img, [1,2,0])\n",
    "  plt.imshow(img)\n",
    "  plt.show()"
   ]
  },
  {
   "cell_type": "markdown",
   "metadata": {},
   "source": [
    "### Basic Convolution layer unit"
   ]
  },
  {
   "cell_type": "code",
   "execution_count": 40,
   "metadata": {
    "id": "b8QYJXp2ngw3"
   },
   "outputs": [],
   "source": [
    "class ConvLayer(nn.Module):\n",
    "\n",
    "  def __init__(self, in_channels, out_channels, stride=1):\n",
    "    super(ConvLayer, self).__init__()\n",
    "    self.in_channels = in_channels\n",
    "    self.out_channels = out_channels\n",
    "    self.conv1 = nn.Conv2d(\n",
    "        in_channels, \n",
    "        in_channels, \n",
    "        kernel_size=3, \n",
    "        stride=stride,\n",
    "        padding=1,\n",
    "        groups=in_channels\n",
    "    )\n",
    "    self.bn1 = nn.BatchNorm2d(in_channels)\n",
    "    self.relu = nn.ReLU()\n",
    "    self.conv2 = nn.Conv2d(\n",
    "        in_channels,\n",
    "        out_channels,\n",
    "        kernel_size=1,\n",
    "        stride=1,\n",
    "    )\n",
    "    self.bn2 = nn.BatchNorm2d(out_channels)\n",
    "\n",
    "  def forward(self, x):\n",
    "    if x.size(2) > 3:\n",
    "      x = torchvision.ops.drop_block2d(x, 0.3, block_size=3)\n",
    "    x = self.relu(self.bn1(self.conv1(x)))\n",
    "    x = self.relu(self.bn2(self.conv2(x)))\n",
    "    return x"
   ]
  },
  {
   "cell_type": "code",
   "execution_count": 41,
   "metadata": {
    "colab": {
     "base_uri": "https://localhost:8080/"
    },
    "id": "IgB7KXeTnk8E",
    "outputId": "4a980974-a5ec-431c-e06b-bd926729f18d"
   },
   "outputs": [
    {
     "data": {
      "text/plain": [
       "torch.Size([10, 32, 32, 32])"
      ]
     },
     "execution_count": 41,
     "metadata": {},
     "output_type": "execute_result"
    }
   ],
   "source": [
    "conv_layer = ConvLayer(16, 32, 1)\n",
    "x = torch.rand(10, 16, 32, 32)\n",
    "out = conv_layer(x)\n",
    "out.size()"
   ]
  },
  {
   "cell_type": "markdown",
   "metadata": {},
   "source": [
    "### MobileNet Model"
   ]
  },
  {
   "cell_type": "code",
   "execution_count": 69,
   "metadata": {
    "id": "vTU1TfglPG4p"
   },
   "outputs": [],
   "source": [
    "class MobileNet(nn.Module):\n",
    "\n",
    "  def __init__(self):\n",
    "    super(MobileNet, self).__init__()\n",
    "    self.conv = nn.Conv2d(3, 64, kernel_size=3, stride=1, padding=1)\n",
    "    self.bn = nn.BatchNorm2d(64)\n",
    "    self.relu = nn.ReLU()\n",
    "    self.conv_layer1 = ConvLayer(64, 128, 1)\n",
    "    self.conv_layer2 = ConvLayer(128, 128, 1)\n",
    "    self.conv_layer3 = ConvLayer(128, 256, 2)\n",
    "    self.conv_layer4 = ConvLayer(256, 256, 1)\n",
    "    self.conv_layer5 = ConvLayer(256, 256, 1)\n",
    "    self.conv_layer6 = ConvLayer(256, 256, 1)\n",
    "    self.conv_layer7 = ConvLayer(256, 512, 2)\n",
    "    self.conv_layer8 = ConvLayer(512, 512, 1)\n",
    "    self.conv_layer9 = ConvLayer(512, 512, 1)\n",
    "    self.conv_layer10 = ConvLayer(512, 512, 1)\n",
    "    self.conv_layer11 = ConvLayer(512, 1024, 2)\n",
    "    self.conv_layer12 = ConvLayer(1024, 1024, 1)\n",
    "    self.conv_layer13 = ConvLayer(1024, 1024, 1)\n",
    "    self.avg_pool = nn.AvgPool2d(4)\n",
    "    self.dropout = nn.Dropout(0.5)\n",
    "    self.fc = nn.Linear(1024, 10)\n",
    "\n",
    "  def forward(self, x):\n",
    "    x = self.relu(self.bn(self.conv(x)))\n",
    "    x = self.conv_layer1(x)\n",
    "    x = self.conv_layer2(x)\n",
    "    x = self.conv_layer3(x)\n",
    "    x = self.conv_layer4(x)\n",
    "    x = self.conv_layer5(x)\n",
    "    x = self.conv_layer6(x)\n",
    "    x = self.conv_layer7(x)\n",
    "    x = self.conv_layer8(x)\n",
    "    x = self.conv_layer9(x)\n",
    "    x = self.conv_layer10(x)\n",
    "    x = self.conv_layer11(x)\n",
    "    x = self.conv_layer12(x)\n",
    "    x = self.conv_layer13(x)\n",
    "    x = self.avg_pool(x)\n",
    "    x = x.view(x.size(0), -1)\n",
    "    x = self.dropout(x)\n",
    "    x = self.fc(x)\n",
    "    return x"
   ]
  },
  {
   "cell_type": "code",
   "execution_count": 70,
   "metadata": {
    "colab": {
     "base_uri": "https://localhost:8080/"
    },
    "id": "CA5TD0W_nqgV",
    "outputId": "22d71989-8464-435f-8b9e-ef22b217068a"
   },
   "outputs": [
    {
     "data": {
      "text/plain": [
       "torch.Size([10, 10])"
      ]
     },
     "execution_count": 70,
     "metadata": {},
     "output_type": "execute_result"
    }
   ],
   "source": [
    "sample_image = torch.rand(10, 3, 32, 32)\n",
    "mobile_net = MobileNet()\n",
    "out = mobile_net(sample_image)\n",
    "out.size()"
   ]
  },
  {
   "cell_type": "markdown",
   "metadata": {},
   "source": [
    "### Model Initialization"
   ]
  },
  {
   "cell_type": "code",
   "execution_count": 71,
   "metadata": {
    "id": "eFks-tQyRGqK"
   },
   "outputs": [],
   "source": [
    "CUDA = torch.cuda.is_available()"
   ]
  },
  {
   "cell_type": "code",
   "execution_count": 97,
   "metadata": {
    "colab": {
     "base_uri": "https://localhost:8080/"
    },
    "id": "I7BtX6oi7Sfd",
    "outputId": "d76fc32e-a996-4b19-98df-05e99de5b818"
   },
   "outputs": [
    {
     "name": "stdout",
     "output_type": "stream",
     "text": [
      "True\n"
     ]
    }
   ],
   "source": [
    "model = MobileNet()\n",
    "if CUDA:\n",
    "  print(CUDA)\n",
    "  model = model.cuda()"
   ]
  },
  {
   "cell_type": "markdown",
   "metadata": {},
   "source": [
    "### Hyper parameters"
   ]
  },
  {
   "cell_type": "code",
   "execution_count": 98,
   "metadata": {
    "id": "69mtXIHV4bSf"
   },
   "outputs": [],
   "source": [
    "# hyper parameters\n",
    "learning_rate = 0.0005\n",
    "decay_rate = 0.01\n",
    "batch_size = 300\n",
    "optimizer = torch.optim.Adam(model.parameters(), lr=learning_rate, weight_decay=1e-4)\n",
    "loss_fn = nn.CrossEntropyLoss()"
   ]
  },
  {
   "cell_type": "code",
   "execution_count": 99,
   "metadata": {
    "id": "thnSMzPx89SL"
   },
   "outputs": [],
   "source": [
    "train_losses = []\n",
    "train_accuracy = []\n",
    "test_losses = []\n",
    "test_accuracy = []"
   ]
  },
  {
   "cell_type": "code",
   "execution_count": 100,
   "metadata": {
    "id": "YsSgL4XOADVY"
   },
   "outputs": [],
   "source": [
    "train_loader = torch.utils.data.DataLoader(train_data, batch_size=batch_size, shuffle=True)\n",
    "test_loader = torch.utils.data.DataLoader(test_data, batch_size=batch_size)"
   ]
  },
  {
   "cell_type": "code",
   "execution_count": 101,
   "metadata": {
    "id": "zQzZjhf58Gfb"
   },
   "outputs": [],
   "source": [
    "def epoch_train(model, num_epochs, epoch, data_loader, loss_fn, optimizer):\n",
    "  CUDA = torch.cuda.is_available()\n",
    "  model.train()\n",
    "  sum_loss = 0\n",
    "  sum_accuracy = 0\n",
    "  iteration = 0\n",
    "  total_count = 0\n",
    "  for i, (images, targets) in enumerate(data_loader):\n",
    "    if CUDA:\n",
    "      images = images.cuda()\n",
    "      targets = targets.cuda()\n",
    "    outputs = model(images)\n",
    "    _, predicted = torch.max(outputs, dim=1)\n",
    "    if CUDA:\n",
    "      sum_accuracy += (targets.cpu() == predicted.cpu()).sum()\n",
    "    else:\n",
    "      sum_accuracy += (targets == predicted).sum()\n",
    "    loss = loss_fn(outputs, targets)\n",
    "    sum_loss += loss.item() * len(targets)\n",
    "    optimizer.zero_grad()\n",
    "    loss.backward()\n",
    "    optimizer.step()\n",
    "    iteration += 1\n",
    "    total_count += len(images)\n",
    "    if i % 10 == 0:\n",
    "      print('Epoch {}/{}, Iteration: {}/{}, Training loss: {:.3f}, Accuracy: {:.3f}'.format(\n",
    "          epoch+1, num_epochs, i, len(data_loader), sum_loss / iteration, sum_accuracy / total_count\n",
    "      ))\n",
    "  train_losses.append(sum_loss / iteration)\n",
    "  train_accuracy.append(sum_accuracy / total_count)"
   ]
  },
  {
   "cell_type": "code",
   "execution_count": 102,
   "metadata": {
    "id": "gNpvWveD9Dw4"
   },
   "outputs": [],
   "source": [
    "def epoch_test(model, num_epochs, epoch, data_loader, loss_fn):\n",
    "  CUDA = torch.cuda.is_available()\n",
    "  model.eval()\n",
    "  with torch.no_grad():\n",
    "    sum_loss = 0\n",
    "    sum_accuracy = 0\n",
    "    iteration = 0\n",
    "    total_count = 0\n",
    "    for i, (images, targets) in enumerate(data_loader):\n",
    "      if CUDA:\n",
    "        images = images.cuda()\n",
    "        targets = targets.cuda()\n",
    "      outputs = model(images)\n",
    "      _, predicted = torch.max(outputs, dim=1)\n",
    "      if CUDA:\n",
    "        sum_accuracy += (targets.cpu() == predicted.cpu()).sum()\n",
    "      else:\n",
    "        sum_accuracy += (targets == predicted).sum()\n",
    "      loss = loss_fn(outputs, targets)\n",
    "      sum_loss += loss.item() * len(targets)\n",
    "      iteration += 1\n",
    "      total_count += len(images)\n",
    "      print('Epoch {}/{}, Iteration: {}/{}, Test loss: {:.3f}, Accuracy: {:.3f}'.format(\n",
    "          epoch+1, num_epochs, i, len(data_loader), sum_loss / iteration, sum_accuracy / total_count\n",
    "      ))\n",
    "    test_losses.append(sum_loss / iteration)\n",
    "    test_accuracy.append(sum_accuracy / total_count)\n",
    "    "
   ]
  },
  {
   "cell_type": "code",
   "execution_count": 103,
   "metadata": {
    "id": "R7r5xIkoOJF9"
   },
   "outputs": [],
   "source": [
    "def make_plot(train, test, train_label, test_label):\n",
    "  fig = plt.figure(20)\n",
    "  plt.plot(train, label=train_label)\n",
    "  plt.plot(test, label=test_label)\n",
    "  plt.legend()\n",
    "  plt.show()"
   ]
  },
  {
   "cell_type": "code",
   "execution_count": 106,
   "metadata": {
    "id": "AiMC20JQ19tj"
   },
   "outputs": [],
   "source": [
    "# optimizer.param_groups[0]['lr'] *= 0.1"
   ]
  },
  {
   "cell_type": "code",
   "execution_count": 2,
   "metadata": {
    "colab": {
     "background_save": true,
     "base_uri": "https://localhost:8080/",
     "height": 1000
    },
    "id": "77_YzG08_7VS",
    "outputId": "6a35827c-b2bb-4600-bbc7-2d743e0c8fce",
    "scrolled": true
   },
   "outputs": [],
   "source": [
    "# training loop\n",
    "num_epochs = 10\n",
    "for epoch in range(num_epochs):\n",
    "  epoch_train(model, num_epochs, epoch, train_loader, loss_fn, optimizer)\n",
    "  epoch_test(model, num_epochs, epoch, test_loader, loss_fn)\n",
    "  torch.save(model.state_dict(), \"./mini_mobile_net.pt\")\n",
    "  torch.save(train_losses, \"./train_losses.pt\")\n",
    "  torch.save(test_losses, \"./test_losses.pt\")\n",
    "  torch.save(train_accuracy, \"./train_accuracy.pt\")\n",
    "  torch.save(test_accuracy, \"./test_accuracy.pt\")\n",
    "  if epoch % 9 == 0:\n",
    "    make_plot(train_losses, test_losses, \"Train loss\", \"Test loss\")\n",
    "    make_plot(train_accuracy, test_accuracy, \"Train accuracy\",\"Test accuracy\")\n",
    "    "
   ]
  },
  {
   "cell_type": "code",
   "execution_count": 108,
   "metadata": {
    "colab": {
     "base_uri": "https://localhost:8080/",
     "height": 513
    },
    "id": "PxstWCIPD-DG",
    "outputId": "a3fb3090-c78f-4c9f-9618-172abce46e42",
    "scrolled": false
   },
   "outputs": [
    {
     "data": {
      "image/png": "[encoded data removed]",
      "text/plain": [
       "<Figure size 640x480 with 1 Axes>"
      ]
     },
     "metadata": {},
     "output_type": "display_data"
    },
    {
     "data": {
      "image/png": "[encoded data removed]",
      "text/plain": [
       "<Figure size 640x480 with 1 Axes>"
      ]
     },
     "metadata": {},
     "output_type": "display_data"
    }
   ],
   "source": [
    "make_plot(train_losses, test_losses, \"Train loss\", \"Test loss\")\n",
    "make_plot(train_accuracy, test_accuracy, \"Train accuracy\", \"Test accuracy\")"
   ]
  },
  {
   "cell_type": "code",
   "execution_count": null,
   "metadata": {
    "id": "pauF3a52xZfu"
   },
   "outputs": [],
   "source": []
  }
 ],
 "metadata": {
  "accelerator": "GPU",
  "colab": {
   "collapsed_sections": [],
   "provenance": []
  },
  "gpuClass": "standard",
  "kernelspec": {
   "display_name": "Python 3 (ipykernel)",
   "language": "python",
   "name": "python3"
  },
  "language_info": {
   "codemirror_mode": {
    "name": "ipython",
    "version": 3
   },
   "file_extension": ".py",
   "mimetype": "text/x-python",
   "name": "python",
   "nbconvert_exporter": "python",
   "pygments_lexer": "ipython3",
   "version": "3.9.13"
  }
 },
 "nbformat": 4,
 "nbformat_minor": 1
}
